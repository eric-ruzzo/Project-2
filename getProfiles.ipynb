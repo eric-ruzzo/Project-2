{
 "cells": [
  {
   "cell_type": "code",
   "execution_count": 1,
   "metadata": {},
   "outputs": [],
   "source": [
    "import pymongo\n",
    "#from flask_pymongo import PyMongo\n",
    "from company_info import get_profiles_info\n",
    "import pprint\n",
    "\n",
    "conn = 'mongodb://localhost:27017'\n",
    "client = pymongo.MongoClient(conn)\n",
    "\n",
    "\n",
    "\n",
    "    "
   ]
  },
  {
   "cell_type": "code",
   "execution_count": 5,
   "metadata": {},
   "outputs": [
    {
     "name": "stdout",
     "output_type": "stream",
     "text": [
      "profiles_url https://www.quandl.com/api/v3/datatables/ZACKS/CP.json?api_key=LvDnxyb5x2sY2-YHy76Y\n",
      "ticker\n",
      "comp_name\n",
      "comp_desc\n",
      "address_line_1\n",
      "city\n",
      "state_code\n",
      "phone_nbr\n",
      "email\n",
      "comp_url\n",
      "zacks_x_ind_desc\n",
      "market_val\n",
      "tot_revenue_f0\n",
      "net_income_f0\n",
      "pe_ratio_f1\n",
      "div_yield\n",
      "rating_strong_buys\n",
      "rating_strong_sells\n",
      "rating_buys\n",
      "rating_sells\n",
      "rating_holds\n"
     ]
    }
   ],
   "source": [
    "dblist = client.list_database_names()\n",
    "if \"project_2_DB\" in dblist:\n",
    "    print(\"The database exists.\")\n",
    "else:\n",
    "    db = client.project_2_db\n",
    "    profiles = get_profiles_info()\n",
    "    for profile in profiles:\n",
    "        print(profile)\n",
    "    db.profiles.insert_many([profiles])\n",
    "    "
   ]
  },
  {
   "cell_type": "code",
   "execution_count": null,
   "metadata": {},
   "outputs": [],
   "source": []
  }
 ],
 "metadata": {
  "kernelspec": {
   "display_name": "Python 3",
   "language": "python",
   "name": "python3"
  },
  "language_info": {
   "codemirror_mode": {
    "name": "ipython",
    "version": 3
   },
   "file_extension": ".py",
   "mimetype": "text/x-python",
   "name": "python",
   "nbconvert_exporter": "python",
   "pygments_lexer": "ipython3",
   "version": "3.6.7"
  },
  "varInspector": {
   "cols": {
    "lenName": 16,
    "lenType": 16,
    "lenVar": 40
   },
   "kernels_config": {
    "python": {
     "delete_cmd_postfix": "",
     "delete_cmd_prefix": "del ",
     "library": "var_list.py",
     "varRefreshCmd": "print(var_dic_list())"
    },
    "r": {
     "delete_cmd_postfix": ") ",
     "delete_cmd_prefix": "rm(",
     "library": "var_list.r",
     "varRefreshCmd": "cat(var_dic_list()) "
    }
   },
   "types_to_exclude": [
    "module",
    "function",
    "builtin_function_or_method",
    "instance",
    "_Feature"
   ],
   "window_display": false
  }
 },
 "nbformat": 4,
 "nbformat_minor": 2
}
